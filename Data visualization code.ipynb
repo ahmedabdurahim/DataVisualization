{
  "nbformat": 4,
  "nbformat_minor": 0,
  "metadata": {
    "colab": {
      "provenance": [],
      "authorship_tag": "ABX9TyO/O+nx7QfK3ufSe6jjB7L1",
      "include_colab_link": true
    },
    "kernelspec": {
      "name": "python3",
      "display_name": "Python 3"
    },
    "language_info": {
      "name": "python"
    }
  },
  "cells": [
    {
      "cell_type": "markdown",
      "metadata": {
        "id": "view-in-github",
        "colab_type": "text"
      },
      "source": [
        "<a href=\"https://colab.research.google.com/github/ahmedabdurahim/DataVisualization/blob/main/Data%20visualization%20code.ipynb\" target=\"_parent\"><img src=\"https://colab.research.google.com/assets/colab-badge.svg\" alt=\"Open In Colab\"/></a>"
      ]
    },
    {
      "cell_type": "code",
      "execution_count": null,
      "metadata": {
        "id": "INjh0va1u_Ta"
      },
      "outputs": [],
      "source": [
        "import pandas as pd \n",
        "\n",
        "\n",
        "lst = { 'Name': ['Name 1', 'Name 2', 'Name 3', 'Name 4'], 'Age':['10', '20', '30', '40',]}\n",
        "\n",
        "df = pd.DataFrame(lst)\n",
        "\n",
        "data = pd.read_csv(\"/content/pythondata.csv\")\n",
        "\n",
        "row2= data.iloc[6]\n",
        "\n",
        "print(pd.DataFrame(data))"
      ]
    },
    {
      "cell_type": "code",
      "source": [
        "import seaborn as sns\n",
        "import pandas\n",
        "\n",
        "sns.set(style = 'whitegrid')\n",
        "\n",
        "data = pandas.read_csv(\"/content/Book1.csv\")\n",
        "\n",
        "data.head()\n",
        "\n",
        "sns.scatterplot(data['February'],data['March'])\n",
        "\n",
        "\n"
      ],
      "metadata": {
        "id": "1pRzoUWly05n"
      },
      "execution_count": null,
      "outputs": []
    },
    {
      "cell_type": "code",
      "source": [
        "import seaborn as sns\n",
        "import matplotlib.pyplot as plt\n",
        "\n",
        "Graph = [1, 2, 3, 5, 8, 13, 21, 34, 55, 89]\n",
        "Demand = [-1, -2, -3, 2.5, 4, 10, 22, 40, 70, 120]\n",
        "Efficiency = [40, 52, 30, 20, 15, 40, 50, 70, 100, 160]\n",
        "Xaxis = ['Jan', 'Feb', 'Mar', 'Apr', 'May', 'Jun', 'Jul', 'Aug', 'Sep', 'Oct' ]\n",
        "\n",
        "sns.set_style(\"darkgrid\")\n",
        "\n",
        "plt.xlabel('Months')\n",
        "plt.ylabel('Items sold')\n",
        "\n",
        "plt.plot(Xaxis, Graph, marker = 'x')\n",
        "plt.plot(Xaxis, Demand, marker = '.')\n",
        "plt.plot(Xaxis, Efficiency)\n",
        "\n",
        "plt.title(\"Year to date sale on items\")\n",
        "plt.legend(['Items sold', 'Demand', 'Efficiency'])\n",
        "\n",
        "plt.figure(figsize = (24,6))"
      ],
      "metadata": {
        "id": "0NsCJ0oiWLp7"
      },
      "execution_count": null,
      "outputs": []
    }
  ]
}