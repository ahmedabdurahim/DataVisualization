{
  "nbformat": 4,
  "nbformat_minor": 0,
  "metadata": {
    "colab": {
      "provenance": [],
      "authorship_tag": "ABX9TyNY8POMSkRd7GThCWAb0NTr"
    },
    "kernelspec": {
      "name": "python3",
      "display_name": "Python 3"
    },
    "language_info": {
      "name": "python"
    }
  },
  "cells": [
    {
      "cell_type": "code",
      "execution_count": null,
      "metadata": {
        "id": "XFlZdTMaCNv_"
      },
      "outputs": [],
      "source": [
        "import seaborn as sns\n",
        "import matplotlib.pyplot as plt\n",
        "import pandas as pd\n",
        "\n",
        "class DataVisualization:\n",
        "    #Gets value that intersects at the row and column\n",
        "    def GetDataRowsAndColumns(FilePath, GetColumn, GetRows):\n",
        "        dt = pd.read_csv(FilePath)\n",
        "        DataTable = dt.iloc[GetRows, GetColumn]\n",
        "\n",
        "        return DataTable \n",
        "    #Plots chart from csv file\n",
        "    def PlotFromFile(FilePath):\n",
        "        sns.set_style(\"darkgrid\")\n",
        "        data1 = [0] * 5\n",
        "        data2 = [0] * 5\n",
        "\n",
        "        for i in range(5):\n",
        "            data1[i] = DataVisualization.GetDataRowsAndColumns(FilePath,0,i)\n",
        "            data2[i] = DataVisualization.GetDataRowsAndColumns(FilePath,1,i)\n",
        "            plt.plot(data1)\n",
        "    #Iterates values that come after a specfic value\n",
        "    def ReturnSpecific(FilePath, GetColumn, rng):\n",
        "        dt = pd.read_csv(FilePath)\n",
        "        for i in range(rng):\n",
        "            DataTable = dt.iloc[i, GetColumn]\n",
        "            print(DataTable) \n",
        "\n",
        "    #plots graph\n",
        "    def Plot(X, Y, XaxisPlt, Xlabel, Ylabel):\n",
        "        sns.set_style(\"darkgrid\")\n",
        "        plt.plot(XaxisPlt ,X)\n",
        "        plt.plot(XaxisPlt, Y)\n",
        "        plt.xlabel(Xlabel)\n",
        "        plt.ylabel(Ylabel)\n",
        "        plt.figure(figsize=(24,0))\n",
        "\n",
        "    #plots barchart\n",
        "    def BarChart(FilePath):\n",
        "        for i in range(5):\n",
        "            X = [DataVisualization.GetDataRowsAndColumns(FilePath, 0, i)]\n",
        "            Y = [DataVisualization.GetDataRowsAndColumns(FilePath, 1, 0)]\n",
        "\n",
        "        sns.barplot(X,Y)\n",
        "\n",
        "\n",
        "DataVisualization.BarChart('data.csv')\n"
      ]
    }
  ]
}