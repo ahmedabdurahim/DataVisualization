import seaborn as sns
import matplotlib.pyplot as plt
import pandas as pd

class DataVisualization:

    def GetDataRowsAndColumns(FilePath, GetColumn, GetRows):
        dt = pd.read_csv(FilePath)
        DataTable = dt.iloc[GetRows, GetColumn]

        return DataTable 
    
    def PlotFromFile(FilePath):
        sns.set_style("darkgrid")
        data1 = [0] * 5
        data2 = [0] * 5

        for i in range(5):
            data1[i] = DataVisualization.GetDataRowsAndColumns(FilePath,0,i)
            data2[i] = DataVisualization.GetDataRowsAndColumns(FilePath,1,i)
            plt.plot(data1)

    def ReturnSpecific(FilePath, GetColumn, rng):
        dt = pd.read_csv(FilePath)
        for i in range(rng):
            DataTable = dt.iloc[i, GetColumn]
            print(DataTable) 


    def Plot(X, Y, XaxisPlt, Xlabel, Ylabel):
        sns.set_style("darkgrid")
        plt.plot(XaxisPlt ,X)
        plt.plot(XaxisPlt, Y)
        plt.xlabel(Xlabel)
        plt.ylabel(Ylabel)
        plt.figure(figsize=(24,0))


DataVisualization.ReturnSpecific('data.csv', 0,8)
